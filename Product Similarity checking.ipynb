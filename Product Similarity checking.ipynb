{
 "cells": [
  {
   "cell_type": "code",
   "execution_count": 33,
   "metadata": {},
   "outputs": [],
   "source": [
    "import pandas as pd\n",
    "from sklearn.feature_extraction.text import CountVectorizer, TfidfVectorizer"
   ]
  },
  {
   "cell_type": "code",
   "execution_count": 4,
   "metadata": {},
   "outputs": [
    {
     "data": {
      "text/html": [
       "<div>\n",
       "<style scoped>\n",
       "    .dataframe tbody tr th:only-of-type {\n",
       "        vertical-align: middle;\n",
       "    }\n",
       "\n",
       "    .dataframe tbody tr th {\n",
       "        vertical-align: top;\n",
       "    }\n",
       "\n",
       "    .dataframe thead th {\n",
       "        text-align: right;\n",
       "    }\n",
       "</style>\n",
       "<table border=\"1\" class=\"dataframe\">\n",
       "  <thead>\n",
       "    <tr style=\"text-align: right;\">\n",
       "      <th></th>\n",
       "      <th>ProductId</th>\n",
       "      <th>Title</th>\n",
       "      <th>Image URL</th>\n",
       "      <th>Division</th>\n",
       "      <th>Category</th>\n",
       "      <th>Sub category</th>\n",
       "      <th>Article type</th>\n",
       "      <th>Offer price</th>\n",
       "      <th>Sale price</th>\n",
       "      <th>Color</th>\n",
       "      <th>Gender</th>\n",
       "    </tr>\n",
       "  </thead>\n",
       "  <tbody>\n",
       "    <tr>\n",
       "      <th>0</th>\n",
       "      <td>E8AC41D107EA5DBB5DF561A684899B38</td>\n",
       "      <td>Color Dose Pearls Bronze 59 Nail Polish</td>\n",
       "      <td>https://media6.ppl-media.com/tr:h-750,w-750,c-...</td>\n",
       "      <td>Makeup</td>\n",
       "      <td>Nails</td>\n",
       "      <td>Nail Polish</td>\n",
       "      <td>Nail Polish</td>\n",
       "      <td>59</td>\n",
       "      <td>59</td>\n",
       "      <td>Color Dose</td>\n",
       "      <td>women</td>\n",
       "    </tr>\n",
       "    <tr>\n",
       "      <th>1</th>\n",
       "      <td>04AE770377AABCCBCCDD5FBC93CC83E1</td>\n",
       "      <td>Rimmel Space Dust Nail Polish - Luna Love #004</td>\n",
       "      <td>https://media6.ppl-media.com/tr:h-750,w-750,c-...</td>\n",
       "      <td>Makeup</td>\n",
       "      <td>Nails</td>\n",
       "      <td>Nail Polish</td>\n",
       "      <td>Nail Polish</td>\n",
       "      <td>310</td>\n",
       "      <td>310</td>\n",
       "      <td>Rimmel</td>\n",
       "      <td>women</td>\n",
       "    </tr>\n",
       "    <tr>\n",
       "      <th>2</th>\n",
       "      <td>21B0CF144B3CFFDDCCE4937C7731A7CE</td>\n",
       "      <td>Color Dose Pearls Copper Rust 58 Nail Polish</td>\n",
       "      <td>https://media6.ppl-media.com/tr:h-750,w-750,c-...</td>\n",
       "      <td>Makeup</td>\n",
       "      <td>Nails</td>\n",
       "      <td>Nail Polish</td>\n",
       "      <td>Nail Polish</td>\n",
       "      <td>59</td>\n",
       "      <td>59</td>\n",
       "      <td>Color Dose</td>\n",
       "      <td>women</td>\n",
       "    </tr>\n",
       "    <tr>\n",
       "      <th>3</th>\n",
       "      <td>129CE0C7596D2D346E5CDC54E55A3A67</td>\n",
       "      <td>Color Dose Matt Nude 25 Nail Polish</td>\n",
       "      <td>https://media6.ppl-media.com/tr:h-235,w-235,c-...</td>\n",
       "      <td>NaN</td>\n",
       "      <td>Nails</td>\n",
       "      <td>Nail Polish</td>\n",
       "      <td>Nail Polish</td>\n",
       "      <td>59</td>\n",
       "      <td>59</td>\n",
       "      <td>color dose</td>\n",
       "      <td>women</td>\n",
       "    </tr>\n",
       "    <tr>\n",
       "      <th>4</th>\n",
       "      <td>A5E51E0F6C9929ECD16D875EC9A4AFA5</td>\n",
       "      <td>SUGAR Tip Tac Toe Nail Lacquer - 032 Mary Popp...</td>\n",
       "      <td>https://media6.ppl-media.com/tr:h-750,w-750,c-...</td>\n",
       "      <td>Makeup</td>\n",
       "      <td>Nails</td>\n",
       "      <td>Nail Polish</td>\n",
       "      <td>Nail Polish</td>\n",
       "      <td>237</td>\n",
       "      <td>249</td>\n",
       "      <td>Sugar</td>\n",
       "      <td>women</td>\n",
       "    </tr>\n",
       "  </tbody>\n",
       "</table>\n",
       "</div>"
      ],
      "text/plain": [
       "                          ProductId  \\\n",
       "0  E8AC41D107EA5DBB5DF561A684899B38   \n",
       "1  04AE770377AABCCBCCDD5FBC93CC83E1   \n",
       "2  21B0CF144B3CFFDDCCE4937C7731A7CE   \n",
       "3  129CE0C7596D2D346E5CDC54E55A3A67   \n",
       "4  A5E51E0F6C9929ECD16D875EC9A4AFA5   \n",
       "\n",
       "                                               Title  \\\n",
       "0            Color Dose Pearls Bronze 59 Nail Polish   \n",
       "1     Rimmel Space Dust Nail Polish - Luna Love #004   \n",
       "2       Color Dose Pearls Copper Rust 58 Nail Polish   \n",
       "3                Color Dose Matt Nude 25 Nail Polish   \n",
       "4  SUGAR Tip Tac Toe Nail Lacquer - 032 Mary Popp...   \n",
       "\n",
       "                                           Image URL Division Category  \\\n",
       "0  https://media6.ppl-media.com/tr:h-750,w-750,c-...   Makeup    Nails   \n",
       "1  https://media6.ppl-media.com/tr:h-750,w-750,c-...   Makeup    Nails   \n",
       "2  https://media6.ppl-media.com/tr:h-750,w-750,c-...   Makeup    Nails   \n",
       "3  https://media6.ppl-media.com/tr:h-235,w-235,c-...      NaN    Nails   \n",
       "4  https://media6.ppl-media.com/tr:h-750,w-750,c-...   Makeup    Nails   \n",
       "\n",
       "  Sub category Article type  Offer price  Sale price       Color Gender  \n",
       "0  Nail Polish  Nail Polish           59          59  Color Dose  women  \n",
       "1  Nail Polish  Nail Polish          310         310      Rimmel  women  \n",
       "2  Nail Polish  Nail Polish           59          59  Color Dose  women  \n",
       "3  Nail Polish  Nail Polish           59          59  color dose  women  \n",
       "4  Nail Polish  Nail Polish          237         249       Sugar  women  "
      ]
     },
     "execution_count": 4,
     "metadata": {},
     "output_type": "execute_result"
    }
   ],
   "source": [
    "products=pd.read_excel('C:/Users/Administrator/Desktop/Extra/products.xlsx')\n",
    "products.head()"
   ]
  },
  {
   "cell_type": "code",
   "execution_count": 19,
   "metadata": {},
   "outputs": [
    {
     "data": {
      "text/plain": [
       "array(['Nails', 'Lip Makeup', 'Perfumes', 'Eye Makeup', 'Face Makeup',\n",
       "       'Deodorants', 'Soap', 'Jewellery', 'Wellness',\n",
       "       'Hair Care and Styling', 'Body Oils', 'Makeup Brushes and Tools',\n",
       "       'Hair Accessories', 'Hair Color', 'Makeup', 'Skin Care', 'Body',\n",
       "       'Hand And Nail Care', 'Family Nutrition', 'Beard Care',\n",
       "       'Shaving Care For Men', 'Waxing And Shaving',\n",
       "       'Weight Management Products', 'Hair Styling', 'Body Wash',\n",
       "       'Intimate Care', 'Sheet Mask', 'Gift and Value Sets',\n",
       "       'Body Treatment', 'Vitamins & Supplements', 'Shampoo',\n",
       "       'Facial Kit', 'Conditioner', 'Moisturizer', 'Fragrance', 'Condoms',\n",
       "       'Face Cream', 'Combs'], dtype=object)"
      ]
     },
     "execution_count": 19,
     "metadata": {},
     "output_type": "execute_result"
    }
   ],
   "source": [
    "products['Category'].unique()"
   ]
  },
  {
   "cell_type": "code",
   "execution_count": 31,
   "metadata": {},
   "outputs": [],
   "source": [
    "docs=products['Title'].str.lower().str.replace('[^a-z ]','')"
   ]
  },
  {
   "cell_type": "code",
   "execution_count": null,
   "metadata": {},
   "outputs": [],
   "source": [
    "vectorizer=CountVectorizer(stop_words='english')"
   ]
  },
  {
   "cell_type": "code",
   "execution_count": null,
   "metadata": {},
   "outputs": [],
   "source": []
  },
  {
   "cell_type": "code",
   "execution_count": null,
   "metadata": {},
   "outputs": [],
   "source": []
  },
  {
   "cell_type": "code",
   "execution_count": null,
   "metadata": {},
   "outputs": [],
   "source": []
  },
  {
   "cell_type": "code",
   "execution_count": null,
   "metadata": {},
   "outputs": [],
   "source": []
  },
  {
   "cell_type": "code",
   "execution_count": null,
   "metadata": {},
   "outputs": [],
   "source": []
  },
  {
   "cell_type": "code",
   "execution_count": null,
   "metadata": {},
   "outputs": [],
   "source": []
  },
  {
   "cell_type": "code",
   "execution_count": null,
   "metadata": {},
   "outputs": [],
   "source": []
  },
  {
   "cell_type": "code",
   "execution_count": null,
   "metadata": {},
   "outputs": [],
   "source": []
  },
  {
   "cell_type": "code",
   "execution_count": null,
   "metadata": {},
   "outputs": [],
   "source": []
  },
  {
   "cell_type": "code",
   "execution_count": null,
   "metadata": {},
   "outputs": [],
   "source": []
  },
  {
   "cell_type": "code",
   "execution_count": null,
   "metadata": {},
   "outputs": [],
   "source": []
  },
  {
   "cell_type": "code",
   "execution_count": null,
   "metadata": {},
   "outputs": [],
   "source": []
  },
  {
   "cell_type": "code",
   "execution_count": null,
   "metadata": {},
   "outputs": [],
   "source": []
  },
  {
   "cell_type": "code",
   "execution_count": null,
   "metadata": {},
   "outputs": [],
   "source": []
  },
  {
   "cell_type": "code",
   "execution_count": null,
   "metadata": {},
   "outputs": [],
   "source": []
  },
  {
   "cell_type": "code",
   "execution_count": null,
   "metadata": {},
   "outputs": [],
   "source": []
  },
  {
   "cell_type": "code",
   "execution_count": null,
   "metadata": {},
   "outputs": [],
   "source": []
  },
  {
   "cell_type": "code",
   "execution_count": null,
   "metadata": {},
   "outputs": [],
   "source": []
  },
  {
   "cell_type": "code",
   "execution_count": null,
   "metadata": {},
   "outputs": [],
   "source": []
  },
  {
   "cell_type": "code",
   "execution_count": null,
   "metadata": {},
   "outputs": [],
   "source": []
  },
  {
   "cell_type": "code",
   "execution_count": null,
   "metadata": {},
   "outputs": [],
   "source": []
  },
  {
   "cell_type": "code",
   "execution_count": null,
   "metadata": {},
   "outputs": [],
   "source": []
  },
  {
   "cell_type": "code",
   "execution_count": null,
   "metadata": {},
   "outputs": [],
   "source": []
  },
  {
   "cell_type": "code",
   "execution_count": null,
   "metadata": {},
   "outputs": [],
   "source": []
  },
  {
   "cell_type": "code",
   "execution_count": null,
   "metadata": {},
   "outputs": [],
   "source": []
  },
  {
   "cell_type": "code",
   "execution_count": null,
   "metadata": {},
   "outputs": [],
   "source": []
  },
  {
   "cell_type": "code",
   "execution_count": null,
   "metadata": {},
   "outputs": [],
   "source": []
  },
  {
   "cell_type": "code",
   "execution_count": null,
   "metadata": {},
   "outputs": [],
   "source": []
  },
  {
   "cell_type": "code",
   "execution_count": null,
   "metadata": {},
   "outputs": [],
   "source": []
  },
  {
   "cell_type": "code",
   "execution_count": null,
   "metadata": {},
   "outputs": [],
   "source": []
  },
  {
   "cell_type": "code",
   "execution_count": null,
   "metadata": {},
   "outputs": [],
   "source": []
  },
  {
   "cell_type": "code",
   "execution_count": null,
   "metadata": {},
   "outputs": [],
   "source": []
  },
  {
   "cell_type": "code",
   "execution_count": null,
   "metadata": {},
   "outputs": [],
   "source": []
  },
  {
   "cell_type": "code",
   "execution_count": null,
   "metadata": {},
   "outputs": [],
   "source": []
  },
  {
   "cell_type": "code",
   "execution_count": null,
   "metadata": {},
   "outputs": [],
   "source": []
  },
  {
   "cell_type": "code",
   "execution_count": null,
   "metadata": {},
   "outputs": [],
   "source": []
  },
  {
   "cell_type": "code",
   "execution_count": null,
   "metadata": {},
   "outputs": [],
   "source": []
  },
  {
   "cell_type": "code",
   "execution_count": null,
   "metadata": {},
   "outputs": [],
   "source": []
  },
  {
   "cell_type": "code",
   "execution_count": null,
   "metadata": {},
   "outputs": [],
   "source": []
  },
  {
   "cell_type": "code",
   "execution_count": null,
   "metadata": {},
   "outputs": [],
   "source": []
  },
  {
   "cell_type": "code",
   "execution_count": null,
   "metadata": {},
   "outputs": [],
   "source": []
  },
  {
   "cell_type": "code",
   "execution_count": null,
   "metadata": {},
   "outputs": [],
   "source": []
  },
  {
   "cell_type": "code",
   "execution_count": null,
   "metadata": {},
   "outputs": [],
   "source": []
  },
  {
   "cell_type": "code",
   "execution_count": null,
   "metadata": {},
   "outputs": [],
   "source": []
  },
  {
   "cell_type": "code",
   "execution_count": null,
   "metadata": {},
   "outputs": [],
   "source": []
  },
  {
   "cell_type": "code",
   "execution_count": null,
   "metadata": {},
   "outputs": [],
   "source": []
  },
  {
   "cell_type": "code",
   "execution_count": null,
   "metadata": {},
   "outputs": [],
   "source": []
  },
  {
   "cell_type": "code",
   "execution_count": null,
   "metadata": {},
   "outputs": [],
   "source": []
  },
  {
   "cell_type": "code",
   "execution_count": null,
   "metadata": {},
   "outputs": [],
   "source": []
  },
  {
   "cell_type": "code",
   "execution_count": null,
   "metadata": {},
   "outputs": [],
   "source": []
  },
  {
   "cell_type": "code",
   "execution_count": null,
   "metadata": {},
   "outputs": [],
   "source": []
  },
  {
   "cell_type": "code",
   "execution_count": null,
   "metadata": {},
   "outputs": [],
   "source": []
  },
  {
   "cell_type": "code",
   "execution_count": null,
   "metadata": {},
   "outputs": [],
   "source": []
  },
  {
   "cell_type": "code",
   "execution_count": null,
   "metadata": {},
   "outputs": [],
   "source": []
  },
  {
   "cell_type": "code",
   "execution_count": null,
   "metadata": {},
   "outputs": [],
   "source": []
  },
  {
   "cell_type": "code",
   "execution_count": null,
   "metadata": {},
   "outputs": [],
   "source": []
  },
  {
   "cell_type": "code",
   "execution_count": null,
   "metadata": {},
   "outputs": [],
   "source": []
  },
  {
   "cell_type": "code",
   "execution_count": null,
   "metadata": {},
   "outputs": [],
   "source": []
  },
  {
   "cell_type": "code",
   "execution_count": null,
   "metadata": {},
   "outputs": [],
   "source": []
  },
  {
   "cell_type": "code",
   "execution_count": null,
   "metadata": {},
   "outputs": [],
   "source": []
  }
 ],
 "metadata": {
  "kernelspec": {
   "display_name": "Python 3",
   "language": "python",
   "name": "python3"
  },
  "language_info": {
   "codemirror_mode": {
    "name": "ipython",
    "version": 3
   },
   "file_extension": ".py",
   "mimetype": "text/x-python",
   "name": "python",
   "nbconvert_exporter": "python",
   "pygments_lexer": "ipython3",
   "version": "3.7.1"
  }
 },
 "nbformat": 4,
 "nbformat_minor": 2
}
